{
 "cells": [
  {
   "cell_type": "code",
   "execution_count": 1,
   "id": "92ac6d2e",
   "metadata": {},
   "outputs": [
    {
     "ename": "NameError",
     "evalue": "name 'camera_center' is not defined",
     "output_type": "error",
     "traceback": [
      "\u001b[1;31m---------------------------------------------------------------------------\u001b[0m",
      "\u001b[1;31mNameError\u001b[0m                                 Traceback (most recent call last)",
      "\u001b[1;32m<ipython-input-1-640f02743e48>\u001b[0m in \u001b[0;36m<module>\u001b[1;34m\u001b[0m\n\u001b[1;32m----> 1\u001b[1;33m \u001b[0mx_axis\u001b[0m\u001b[1;33m=\u001b[0m\u001b[0mcamera_center\u001b[0m\u001b[1;33m-\u001b[0m\u001b[0mload_center\u001b[0m\u001b[1;33m;\u001b[0m\u001b[1;33m\u001b[0m\u001b[1;33m\u001b[0m\u001b[0m\n\u001b[0m",
      "\u001b[1;31mNameError\u001b[0m: name 'camera_center' is not defined"
     ]
    }
   ],
   "source": [
    "from jetcam.csi_camera import CSICamera\n",
    "import ipywidgets\n",
    "from IPython.display import display\n",
    "from jetcam.utils import bgr8_to_jpeg\n",
    "import cv2\n",
    "import numpy as np\n",
    "import matplotlib.pyplot as plt\n",
    "import matplotlib.image as mping\n",
    "kenel_size=5\n",
    "low_threshold=50\n",
    "high_threshold=200\n",
    "def draw_lines(image,lines, color=[255,0,0],thickness=5):\n",
    "    for line in lines:\n",
    "        for x1,y1,x2,y2 in lines:\n",
    "            cv2.line(image,(x1, y1), (x2, y2), color, thickness)\n",
    "\n",
    "def hough_lines(image):\n",
    "    lines=cv2.HoughLinesP(image,rho=2,theta=np.pi/180,threshold=90,np.array([]),minLineLength=120,maxLineGap=150)\n",
    "    line_image=np.zeros((image.shape[0],image.shape[1]m3),dtype=np.uint8)\n",
    "    draw_lines(line_image,lines)\n",
    "    return line_image\n",
    "#masked function\n",
    "def region_of_interest(image,vertices):\n",
    "    mask= np.zeros_like(image)\n",
    "    if len(image.shape) >2:\n",
    "        channel_count = image.shape[2]\n",
    "        ignore_mask_color =(255,)*channel_count\n",
    "    else:\n",
    "        ignore_mask_color=255\n",
    "\n",
    "    cv2.fillpoly(mask,vertices, ignore_mask_color)\n",
    "    masked_image=cv2.bitwise_and(image,mask)\n",
    "    return masked_image\n",
    "\n",
    "camera = CSICamera(width=448, height=448)\n",
    "\n",
    "image = camera.read()\n",
    "\n",
    "camera.running = True\n",
    "#coding\n",
    "def update_image(change):\n",
    "    image_initial = change['new']\n",
    "    image_widget.value = bgr8_to_jpeg(image_initial)#이 밑에부터 차선 코딩\n",
    "    image=cv2.cvtColor(image_initial,cv2.COLOR_RGB2GRAY)# gray process\n",
    "    image= cv2.GaussianBlur(image,(kernel_size,kernel_size),0)# kernelsize 입력\n",
    "    image=cv2.Canny(image,low_threshold,high_threshold)#edge detect\n",
    "    imshape=image.shape\n",
    "    vertices= np.array([[(100,imshape[0]),(450,320),(550,320),(imshape[1]-20,imshape[0])]],dtype=np.int32)\n",
    "    mask=region_of_interest(image,vertices)\n",
    "    lines=hough_lines(mask)\n",
    "    lines_edges=cv2.addWeighted(image_initial,a=0.8,lines,b=1,r=0)\n",
    "    #load center and car center  해야됨\n",
    "    x_left=[448*223+223:448*223]\n",
    "    x_left=lis.index(x_left,[255,255,255])\n",
    "    x_right=[448*223+223:448*224-1]\n",
    "    x_right=lis.index(x_right,[255,255,255])\n",
    "    #autonomous driving\n",
    "    load_center=[(x_right+x_left)/2,y] #load center\n",
    "    camera_center=[224,y] #앞이 x라고 가정 (반대였던거같기도)\n",
    "    #이 점들을 어느 image에 그릴지 정해야됨.\n",
    "    cv2.circle(image.camera_center,radius=3,color=[255,255,0],thickness=1)#mark the point in the center of the camera\n",
    "    cv2.circle(image.load_center.radius=3,color=[255,255,0],thickness=1)#mark the point in the center of load\n",
    "\n",
    "    seta=atan((load_center-camera_center)/y)\n",
    "    car.steering=seta\n",
    "    \n",
    "    camera.observe(update_image, names='value')\n",
    "\n",
    "display(image_widget)"
   ]
  },
  {
   "cell_type": "code",
   "execution_count": null,
   "id": "7d2573bc",
   "metadata": {},
   "outputs": [],
   "source": []
  }
 ],
 "metadata": {
  "kernelspec": {
   "display_name": "Python 3",
   "language": "python",
   "name": "python3"
  },
  "language_info": {
   "codemirror_mode": {
    "name": "ipython",
    "version": 3
   },
   "file_extension": ".py",
   "mimetype": "text/x-python",
   "name": "python",
   "nbconvert_exporter": "python",
   "pygments_lexer": "ipython3",
   "version": "3.8.8"
  }
 },
 "nbformat": 4,
 "nbformat_minor": 5
}
